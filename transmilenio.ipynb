{
  "nbformat": 4,
  "nbformat_minor": 0,
  "metadata": {
    "colab": {
      "name": "transmilenio.ipynb",
      "provenance": [],
      "collapsed_sections": []
    },
    "kernelspec": {
      "name": "python3",
      "display_name": "Python 3"
    }
  },
  "cells": [
    {
      "cell_type": "markdown",
      "metadata": {
        "id": "WalhHKPf0IyM",
        "colab_type": "text"
      },
      "source": [
        "\n",
        "# **Proyecto Transmilenio para buscar la mejor ruta entre multiples estaciones usando algoritmos de busqueda de Inteligencia Artificial**\n",
        "\n",
        "Hecho por: Carlos Andres Garnica Salazar - 625762\n",
        "Universidad Catolica de Colombia\n",
        "\n",
        "Este proyecto consiste en buscar la mejor ruta dentro del sistema de portales y estaciones de transmilenio. Para lograr esto se implementa un sistema de arboles y grafos para hacer busquedas no informadas e informadas con los algoritmos BSF, DFS, UCS y A*\n",
        "\n",
        "\n",
        "---\n",
        "\n"
      ]
    },
    {
      "cell_type": "markdown",
      "metadata": {
        "id": "BJV2Zxo20w7Y",
        "colab_type": "text"
      },
      "source": [
        "Para hacer la representacion sobre un grafo en computacion necesitamos construir varias clases que representen a los nodos, los pesos y la conexion entre ellos.\n",
        "\n",
        "La principal ventaja es que un arbol es un tipo de grafo, por lo tanto nos serviran las mismas clases para representarlo.\n",
        "\n",
        "Ademas de las clases se utilizo diccionarios, que es la manera mas facil de representar este tipo de estructuras de datos en Python. Claro, a este tipo de diccionarios van a guardar objetos de instancias de clases (Vertex) con el fin de almacenar multiples valores y datos en un mismo objeto, en vez de hacer multiples diccionarios, accion de programacion que es menos viable.\n"
      ]
    },
    {
      "cell_type": "markdown",
      "metadata": {
        "id": "sKOSwQlvZUkL",
        "colab_type": "text"
      },
      "source": [
        "**Mapa de estaciones**\n",
        "\n",
        "![Mapa de estaciones del sistema de transporte Transmilenio.](https://www.sitp.gov.co/publicaciones/40236/mapas_transmilenio/info/sitp/media/img75080.jpg)\n",
        "\n",
        "**El nombre de las estaciones pueden cambiar*\n",
        "\n"
      ]
    },
    {
      "cell_type": "markdown",
      "metadata": {
        "id": "EKDNM0s2YP5L",
        "colab_type": "text"
      },
      "source": [
        "**Estaciones**\n",
        "\n",
        "Las estaciones que se implementaron son las siguientes:\n",
        "\n",
        "> *   Portal Norte\n",
        "*   Toberin\n",
        "*   Calle 161\n",
        "*   Mazuren\n",
        "*   Calle 146\n",
        "*   Calle 142\n",
        "*   Alcala\n",
        "*   Prado\n",
        "*   Calle 127\n",
        "*   Pepe Sierra\n",
        "*   Calle 106\n",
        "*   Calle 100\n",
        "*   La Castellana\n",
        "*   NQS-Calle 75\n",
        "*   AV. Chile\n",
        "*   Simon Bolivar\n",
        "*   Movistar Arena\n",
        "*   Campin - U. Antonio Nariño\n",
        "*   AV. El Dorado\n",
        "*   CAD\n",
        "*   Paloquemao\n",
        "*   Ricaurte\n",
        "*   San Façon\n",
        "*   De La Sabana\n",
        "*   AV. Jiménez\n",
        "*   Virrey\n",
        "*   Calle 85\n",
        "*   Héroes\n",
        "*   Calle 76\n",
        "*   Calle 72\n",
        "*   Flores\n",
        "*   Calle 63\n",
        "*   Calle 57\n",
        "*   Marly\n",
        "*   Calle 45\n",
        "*   AV. 39\n",
        "*   Calle 34\n",
        "*   Calle 26\n",
        "*   Calle 22\n",
        "*   Calle 19\n",
        "*   Concejo de Bogotá\n",
        "*   Centro Memoria\n",
        "*   U. Nacional\n",
        "\n",
        "Como inicio de la ruta se escogio el Portal norte, mientras que el final de la ruta es la estacion AV. Jimenez."
      ]
    },
    {
      "cell_type": "markdown",
      "metadata": {
        "id": "dHOmGMrvat_5",
        "colab_type": "text"
      },
      "source": [
        "# **Dependencias**\n",
        "\n",
        "Este proyecto requiere de ciertas dependencias, las cuales se describen a continuacion:\n",
        "\n",
        "*   `PriorityQueue`: Clase que permite implementar una cola de prioridad en Python. Para saber mas la documentacion esta [aqui](https://docs.python.org/3/library/queue.html).\n",
        "*   `Geopy.distance`: Permite implementar metricas de distancia entre 2 puntos terrestes con coordenadas de latitud y longitud. En este caso el algoritmo a utilizar es great_circle. La documentacion de las distancias se encuentra en [este enlace](https://geopy.readthedocs.io/en/stable/#module-geopy.distance).\n",
        "\n"
      ]
    },
    {
      "cell_type": "code",
      "metadata": {
        "id": "Zxw3srcOXea4",
        "colab_type": "code",
        "colab": {}
      },
      "source": [
        "from queue import PriorityQueue\n",
        "from geopy.distance import geodesic, great_circle"
      ],
      "execution_count": 0,
      "outputs": []
    },
    {
      "cell_type": "markdown",
      "metadata": {
        "id": "q8DfwM6V1LUG",
        "colab_type": "text"
      },
      "source": [
        "# **Clase Vertex**\n",
        "\n",
        "> Para poder representar cada nodo del grafo o arbol, necesitamos una clase que englobe esto, ademas que guarde los vecinos o una lista de adyacentes por cada nodo. La siguiente clase se encargara de esto."
      ]
    },
    {
      "cell_type": "code",
      "metadata": {
        "id": "Lsuvv5jpZQy9",
        "colab_type": "code",
        "colab": {}
      },
      "source": [
        "class Vertex:\n",
        "    def __init__(self, node, coordinates):\n",
        "        self.id = node\n",
        "        self.coordinates = coordinates # (x,y)\n",
        "        self.adjacent = {}\n",
        "\n",
        "    def __str__(self):\n",
        "        return str(self.id) + ' adjacent: ' + str([x.id for x in self.adjacent])\n",
        "\n",
        "    def add_neighbor(self, neighbor, weight=0):\n",
        "        self.adjacent[neighbor] = weight\n",
        "\n",
        "    def get_connections(self):\n",
        "        return self.adjacent.keys()  \n",
        "\n",
        "    def get_childrens(self):\n",
        "        return [x.id for x in self.adjacent]\n",
        "\n",
        "    def get_vertex_childrens(self):\n",
        "        return [x for x in self.adjacent]\n",
        "\n",
        "    def get_id(self):\n",
        "        return self.id\n",
        "\n",
        "    def get_weight(self, neighbor):\n",
        "        return self.adjacent[neighbor]\n",
        "\n",
        "    def get_coordinates(self):\n",
        "        return self.coordinates\n",
        "\n",
        "    def get_dict_childrens_weights(self):\n",
        "        dictionary = {}\n",
        "\n",
        "        for node in self.adjacent:\n",
        "            node_id = node.get_id()\n",
        "            node_weight = self.get_weight(node)\n",
        "            dictionary.setdefault(node_id, node_weight)\n",
        "\n",
        "        return dictionary\n",
        "\n",
        "\n",
        "    def __repr__(self):\n",
        "        return '{}, {}'.format(repr(self.id), repr(self.coordinates))\n",
        "    \n",
        "    def __lt__(self,other):\n",
        "        \"\"\"\n",
        "        Perform the less than operation (self < other).\n",
        "        \n",
        "        Args:\n",
        "            other: the other Node to compare to\n",
        "        \"\"\"\n",
        "        return (self.id < other.id )\n",
        "    \n",
        "    def __gt__(self,other):\n",
        "        \"\"\"\n",
        "        Perform the greater than operation (self > other).\n",
        "        \n",
        "        Args:\n",
        "            other: the other Node to compare to\n",
        "        \"\"\"\n",
        "        return (self.id  > other.id )\n",
        "\n",
        "    "
      ],
      "execution_count": 0,
      "outputs": []
    },
    {
      "cell_type": "markdown",
      "metadata": {
        "id": "bevDBJI_wbp3",
        "colab_type": "text"
      },
      "source": [
        "# **Clase Grafo**\n",
        "\n",
        "> Con esta clase se engloba la estructura de datos de un grafo para su correspondiente representacion. Ademas, algunos metodos de esta clase estan diseñados para crear vertices, obtener vertices u obtener el grafo en forma de diccionario de la forma `{int : [list]...}`\n",
        "\n",
        "Para la construccion del grafo se utilizo diccionarios de la clase vertex."
      ]
    },
    {
      "cell_type": "code",
      "metadata": {
        "id": "WYeJWy22ZWBZ",
        "colab_type": "code",
        "colab": {}
      },
      "source": [
        "class Graph:\n",
        "    def __init__(self):\n",
        "        self.vert_dict = {}\n",
        "        self.num_vertices = 0\n",
        "\n",
        "    def __iter__(self):\n",
        "        return iter(self.vert_dict.values())\n",
        "\n",
        "    def add_vertex(self, node, coordinates):\n",
        "        self.num_vertices = self.num_vertices + 1\n",
        "        new_vertex = Vertex(node, coordinates)\n",
        "        self.vert_dict[node] = new_vertex\n",
        "        return new_vertex\n",
        "\n",
        "    def get_vertex(self, n):\n",
        "        if n in self.vert_dict:\n",
        "            return self.vert_dict[n]\n",
        "        else:\n",
        "            return None\n",
        "\n",
        "    def add_edge(self, frm, to, cost = 0):\n",
        "        if frm not in self.vert_dict:\n",
        "            self.add_vertex(frm)\n",
        "        if to not in self.vert_dict:\n",
        "            self.add_vertex(to)\n",
        "\n",
        "        self.vert_dict[frm].add_neighbor(self.vert_dict[to], cost)\n",
        "        self.vert_dict[to].add_neighbor(self.vert_dict[frm], cost)\n",
        "\n",
        "    def get_vertices(self):\n",
        "        return self.vert_dict.keys()\n",
        "\n",
        "    def get_dictionary(self):\n",
        "        graph = {}\n",
        "        for v in self.vert_dict.values():\n",
        "            graph.setdefault(v.get_id(), v.get_childrens())\n",
        "\n",
        "        return graph\n",
        "\n",
        "    # Create an undirected graph by adding symmetric edges\n",
        "    def make_undirected(self):\n",
        "        for a in list(self.graph_dict.keys()):\n",
        "            for (b, dist) in self.graph_dict[a].items():\n",
        "                self.graph_dict.setdefault(b, {})[a] = dist"
      ],
      "execution_count": 0,
      "outputs": []
    },
    {
      "cell_type": "markdown",
      "metadata": {
        "id": "i6rNY9MXXr9e",
        "colab_type": "text"
      },
      "source": [
        "# **Clase Node**\n",
        "\n",
        "> El uso de esta clase se limita a facilitar la programacion y el manejo de los vertices en el algoritmo A*. Si bien se pudo utilizar la clase Vertex para este objetivo, no es lo mas adecuado, puestoq ue tienen objetivos diferentes, ademas de parametros, algunos similares pero en su mayoria no implmenetados en Vertex por convencion de abstraccion del problema."
      ]
    },
    {
      "cell_type": "code",
      "metadata": {
        "id": "DpKQgeLV0aRm",
        "colab_type": "code",
        "colab": {}
      },
      "source": [
        "class Node:\n",
        "\n",
        "    # Initialize the class\n",
        "    def __init__(self, name, parent):\n",
        "        self.name = name\n",
        "        self.parent = parent\n",
        "        self.g = 0 # Distance to start node\n",
        "        self.h = 0 # Distance to goal node\n",
        "        self.f = 0 # Total cost\n",
        "\n",
        "    # Compare nodes\n",
        "    def __eq__(self, other):\n",
        "        return self.name == other.name\n",
        "\n",
        "    # Sort nodes\n",
        "    def __lt__(self, other):\n",
        "         return self.f < other.f\n",
        "\n",
        "    # Print node\n",
        "    def __repr__(self):\n",
        "        return ('({0},{1})'.format(self.position, self.f))"
      ],
      "execution_count": 0,
      "outputs": []
    },
    {
      "cell_type": "markdown",
      "metadata": {
        "id": "W2CBG-5lx0b8",
        "colab_type": "text"
      },
      "source": [
        "# **Clase TreeSearch**\n",
        "\n",
        "En esta clase se dan todos los metodos de busqueda y recorrido del grafo, incluyendo la busqueda no informada e informada.\n",
        "\n",
        "> *   BFS `(bfs_shortest_path)`: Busqueda por anchura. Este tipo de busqueda utiliza una cola para guardar los vecinos de un nodo.\n",
        "*   DFS `(dfs_paths)`: Busqueda por profundidad. Este algoritmo utiliza una pila para almacenar todos los nodos adyacentes de los nodos que ha visitado\n",
        "*   UCS `(ucs)`: Busqueda por costo unitario. Algoritmo similar a bfs, pero evalua los costos a traves de una cola de prioridades.\n",
        "*   A* `(astar_search)`: Algoritmod e busqueda informada, el cual tiene en cuenta el costo unitario de un vertice con sus adyacentes, ademas de un costo heristico calculado\n",
        "\n",
        "Para el calculo heuristico `(construct_heristic)` se midio como la distancia en linea recta desde la estacion AV. Jimenez a las demas estaciones (Distancia total). Esta medicion se hizo utilizando la libreria `Geopy.distance` en la funcion `Station.distance`, usando el algoritmo del gran circulo, el cual toma en cuenta que la tierra es totalmente esferica, con un radio de 6371.008 Km y dando resultados con un error del 0.5% aproximadamente.\n",
        "\n",
        "Aun asi, se puede utilizar cualquier medicion tomando las coordenadas (longitud y latitud) por cada estacion, como la euclidiana o la distancia de manhattan para dicho proposito. El principal problema es que este tipo de distancias no tienen en cuenta la curvatura del arco, haciendola mas ineficiente para distancias en lugares de la tierra. Para el anterior trabajo esta el metodo `heristic`, el cual, dado 2 coordenadas, devuel ve las mediciones deseadas. Esta funcion se puede usar como complemento para medir todas las distancias, reemplazando a el algoritmo del gran circulo implementado en `GeoPy`.\n",
        "\n",
        "> Si desea utilizar otro algoritmo de medicion de distancia, consulte la [documentacion de GeoPy para localizaciones](https://geopy.readthedocs.io/en/stable/#module-geopy.distance).\n",
        "\n",
        "\n",
        "\n"
      ]
    },
    {
      "cell_type": "code",
      "metadata": {
        "id": "IiiATFUCFmbl",
        "colab_type": "code",
        "colab": {}
      },
      "source": [
        "class TreeSearch:\n",
        "\n",
        "    def __init__(self, graph):\n",
        "        if graph is not None:\n",
        "            self.graph = graph\n",
        "            self.weights = []\n",
        "        else:\n",
        "            raise TypeError('El grafo tiene un valor de instancia incorrecto: None')\n",
        "\n",
        "    def bfs_shortest_path(self, start, goal):\n",
        "        if (isinstance(self.graph, dict)):\n",
        "            raise TypeError('El grafo no es instancia de la clase Graph')\n",
        "\n",
        "        explored = []\n",
        "\n",
        "        queue = [[start]]\n",
        "    \n",
        "        if start == goal:\n",
        "            return \"El objetivo es el mismo que el inicio.\"\n",
        "    \n",
        "        while queue:\n",
        "            \n",
        "            path = queue.pop(0)\n",
        "            \n",
        "            node = path[-1]\n",
        "            if node not in explored:\n",
        "                neighbours = self.graph.vert_dict[node].get_childrens()\n",
        "                \n",
        "                for neighbour in neighbours:\n",
        "                    new_path = list(path)\n",
        "                    new_path.append(neighbour)\n",
        "                    queue.append(new_path)\n",
        "                    \n",
        "                    if neighbour == goal:\n",
        "                        return new_path\n",
        "    \n",
        "                explored.append(node)\n",
        "    \n",
        "        return \"No hay conexion entre el nodo de inicio y el objetivo.\"\n",
        "\n",
        "    def dfs_paths(self, start, goal):\n",
        "        if(isinstance(self.graph, Graph)):\n",
        "            raise TypeError('El grafo no es instancia de un diccionario.')\n",
        "\n",
        "        stack = [(start, [start])]\n",
        "        while stack:\n",
        "            (vertex, path) = stack.pop()\n",
        "            for next in set(self.graph[vertex]) - set(path):\n",
        "                if next == goal:\n",
        "                    return path + [next]\n",
        "                else:\n",
        "                    stack.append((next, path + [next]))\n",
        "\n",
        "    def ucs(self, start, goal):\n",
        "        if (isinstance(self.graph, dict)):\n",
        "            raise TypeError('El grafo no es instancia de la clase Graph')\n",
        "\n",
        "        visited = set()\n",
        "        queue = PriorityQueue()\n",
        "        queue.put((0, [start]))\n",
        "\n",
        "        while queue:\n",
        "            #cost, node = queue.get()\n",
        "            pair = queue.get()\n",
        "            current = pair[1][-1]\n",
        "            #print(pair[1], type(pair[1]))\n",
        "            if current not in visited:\n",
        "                visited.add(current)\n",
        "                \n",
        "                \n",
        "                if current == goal:\n",
        "                    path = []\n",
        "                    for u in pair[1]:\n",
        "                        path.append(u.get_id())\n",
        "                    return path\n",
        "                \n",
        "                for i in self.graph.vert_dict[current.get_id()].get_connections():\n",
        "                    if i not in visited:\n",
        "                        total_cost = pair[0] + self.graph.vert_dict[current.get_id()].get_weight(i)\n",
        "                        new_path = list(pair[1])\n",
        "                        new_path.append(i)\n",
        "                        queue.put((total_cost, new_path))\n",
        "    \n",
        "    def heuristic(self, graph, a, b, method = 'euclidean'):\n",
        "        #GET WEIGHTS\n",
        "        node_a = graph.get_vertex(a)\n",
        "        node_b = graph.get_vertex(b)\n",
        "\n",
        "        (x1, y1) = node_a.get_coordinates()\n",
        "        (x2, y2) = node_b.get_coordinates()\n",
        "        if method == 'euclidean':\n",
        "            return ((x1 - x2) ** 2 + (y1 - y2) ** 2) ** 0.5\n",
        "        elif method == 'manhattan':\n",
        "            return abs(x1 - x2) + abs(y1 - y2)\n",
        "\n",
        "    def astar_search(self, graph, heuristics, start, end):\n",
        "        if (isinstance(self.graph, dict)):\n",
        "            raise TypeError('El grafo no es instancia de la clase Graph')\n",
        "        # Create lists for open nodes and closed nodes\n",
        "        open = []\n",
        "        closed = []\n",
        "\n",
        "        # Create a start node and an goal node\n",
        "        start_node = Node(start, None)\n",
        "        goal_node = Node(end, None)\n",
        "\n",
        "        # Add the start node\n",
        "        open.append(start_node)\n",
        "        \n",
        "        # Loop until the open list is empty\n",
        "        while len(open) > 0:\n",
        "\n",
        "            # Sort the open list to get the node with the lowest cost first\n",
        "            open.sort()\n",
        "\n",
        "            # Get the node with the lowest cost\n",
        "            current_node = open.pop(0)\n",
        "\n",
        "            # Add the current node to the closed list\n",
        "            closed.append(current_node)\n",
        "            \n",
        "            # Check if we have reached the goal, return the path\n",
        "            if current_node == goal_node:\n",
        "                path = []\n",
        "                while current_node != start_node:\n",
        "                    path.append(str(current_node.name) + ': ' + str(current_node.g))\n",
        "                    current_node = current_node.parent\n",
        "                path.append(str(start_node.name) + ': ' + str(start_node.g))\n",
        "                # Return reversed path\n",
        "                return path[::-1]\n",
        "\n",
        "            # Get neighbours\n",
        "            \n",
        "            #neighbors = graph.get()\n",
        "            neighbors = graph.get_vertex(current_node.name).get_dict_childrens_weights()\n",
        "\n",
        "            # Loop neighbors\n",
        "            for key, value in neighbors.items():\n",
        "\n",
        "                # Create a neighbor node\n",
        "                neighbor = Node(key, current_node)\n",
        "\n",
        "                # Check if the neighbor is in the closed list\n",
        "                if(neighbor in closed):\n",
        "                    continue\n",
        "\n",
        "                # Calculate full path cost\n",
        "                neig_node = graph.get_vertex(neighbor.name)\n",
        "                cost = graph.get_vertex(current_node.name).get_weight(neig_node)\n",
        "                neighbor.g = current_node.g + cost\n",
        "                neighbor.h = heuristics.get(neighbor.name)\n",
        "                neighbor.f = neighbor.g + neighbor.h\n",
        "\n",
        "                # Check if neighbor is in open list and if it has a lower f value\n",
        "                if(self.add_to_open(open, neighbor) == True):\n",
        "                    # Everything is green, add neighbor to open list\n",
        "                    open.append(neighbor)\n",
        "\n",
        "        # Return None, no path is found\n",
        "        return None\n",
        "\n",
        "    # Check if a neighbor should be added to open list\n",
        "    def add_to_open(self, open, neighbor):\n",
        "        for node in open:\n",
        "            if (neighbor == node and neighbor.f > node.f):\n",
        "                return False\n",
        "        return True\n",
        "\n",
        "    def construct_heristic(self, graph, station):\n",
        "        heuristic = {}\n",
        "        frm = graph.get_vertex(24)\n",
        "        coordinates_from = frm.get_coordinates()\n",
        "        for i in range(graph.num_vertices):\n",
        "            to_node = graph.get_vertex(i)\n",
        "            coordinates_to = to_node.get_coordinates()\n",
        "            dist = station.distance(coordinates_from, coordinates_to)\n",
        "            heuristic.setdefault(i, dist)\n",
        "\n",
        "        return heuristic"
      ],
      "execution_count": 0,
      "outputs": []
    },
    {
      "cell_type": "markdown",
      "metadata": {
        "id": "R8E8JY3TJ5UR",
        "colab_type": "text"
      },
      "source": [
        "# **Clase Station**\n",
        "Esta clase se encarga de almacenar el diccionario completo de estaciones que se van a utilizar. Para la construccion de este tipo de estructura de datos se utiliza la funcion `build_all_stations`, la cual agrega el nombre de la estacion, y una lista que contiene el id que va a tener dentro de la ejecucion de este proyecto en conjunto con las coordenadas terrestres (latitud, longitud) en la que se ubica la estacion.\n",
        "\n",
        "> Si bien, este tipo de coordenadas se pueden obtener mediante la libreria `GeoPy` y utilizando algun API de un mapa online como Google maps o Here Maps, requiere realizar la busqueda de la ubicacion exacta para que de como resultado las coordenadas. El problema es que alguna de estas APIs arrojan coordenadas aproximadas o incorrectas de la ubicacion a consultar, sabiendo que la consulta o la busqueda fue correcta.\n",
        "\n",
        "Es por ello que se ha ingresado todas las coordenadas a mano, extrayendolas del sitio de Google Maps una a una. Es mas tedioso pero asegura que las coordenadas sean las mas exactas posibles.\n",
        "\n",
        "Aunque hay algunos mapas libres, no dan las coordenadas exactas, y otros requieren una llave de la API *(API key)* para funcionar, y para que esta tenga alguna utilidad el desarrollador se ve obligado a pagar, como es el caso de Google Maps."
      ]
    },
    {
      "cell_type": "code",
      "metadata": {
        "id": "YUV2PWViCthp",
        "colab_type": "code",
        "colab": {}
      },
      "source": [
        "class Station:\n",
        "\n",
        "    def __init__(self):\n",
        "        self.stations = {}\n",
        "    \n",
        "    def build_all_stations(self):\n",
        "\n",
        "        self.stations.setdefault('Portal Norte', [0, (4.754228, -74.046161)])\n",
        "        self.stations.setdefault('Toberin', [1, (4.746185, -74.047279)])\n",
        "        self.stations.setdefault('Calle 161', [2, (4.742706, -74.047863)])\n",
        "        self.stations.setdefault('Mazuren', [3, (4.734499, -74.049242)]) \n",
        "        self.stations.setdefault('Calle 146', [4, (4.730832, -74.049868)]) \n",
        "        self.stations.setdefault('Calle 142', [5, (4.726947, -74.050305)]) \n",
        "        self.stations.setdefault('Alcala', [6, (4.720287, -74.051641)])\n",
        "        self.stations.setdefault('Prado', [7, (4.713173, -74.052682)])\n",
        "        self.stations.setdefault('Calle 127', [8, (4.704787, -74.054230)])\n",
        "        self.stations.setdefault('Pepe Sierra', [9, (4.698795, -74.055251)])\n",
        "        self.stations.setdefault('Calle 106', [10, (4.691557, -74.056421)])\n",
        "        self.stations.setdefault('Calle 100', [11, (4.684800, -74.057570)])\n",
        "        self.stations.setdefault('La Castellana', [12, (4.676243, -74.063387)])\n",
        "        self.stations.setdefault('NQS-Calle 75', [13, (4.670653, -74.070593)])\n",
        "        self.stations.setdefault('AV. Chile', [14, (4.665962, -74.074819)])\n",
        "        self.stations.setdefault('Simon Bolivar', [15, (4.658008, -74.077797)])\n",
        "        self.stations.setdefault('Movistar Arena', [16, (4.650119, -74.078363)])\n",
        "        self.stations.setdefault('Campin - U. Antonio Nariño', [17, (4.644847, -74.078777)])\n",
        "        self.stations.setdefault('AV. El Dorado', [18, (4.630541, -74.079891)])\n",
        "        self.stations.setdefault('CAD', [19, (4.622983, -74.084559)])\n",
        "        self.stations.setdefault('Paloquemao', [20, (4.617084, -74.089525)])\n",
        "        self.stations.setdefault('Ricaurte', [21, (4.612523, -74.093075)])\n",
        "        self.stations.setdefault('San Façon', [22, (4.609549, -74.086540)])\n",
        "        self.stations.setdefault('De La Sabana', [23, (4.605659, -74.082138)])\n",
        "        self.stations.setdefault('AV. Jiménez', [24, (4.603037, -74.079164)])\n",
        "        self.stations.setdefault('Virrey', [25, (4.675857, -74.059144)])\n",
        "        self.stations.setdefault('Calle 85', [26, (4.671851, -74.059702)])\n",
        "        self.stations.setdefault('Héroes', [27, (4.668311, -74.060210)])\n",
        "        self.stations.setdefault('Calle 76', [28, (4.664031, -74.061083)])\n",
        "        self.stations.setdefault('Calle 72', [29, (4.659261, -74.061922)])\n",
        "        self.stations.setdefault('Flores', [30, (4.654878, -74.063021)])\n",
        "        self.stations.setdefault('Calle 63', [31, (4.648914, -74.064810)])\n",
        "        self.stations.setdefault('Calle 57', [32, (4.642917, -74.065879)])\n",
        "        self.stations.setdefault('Marly', [33, (4.636587, -74.066936)])\n",
        "        self.stations.setdefault('Calle 45', [34, (4.632661, -74.067665)])\n",
        "        self.stations.setdefault('AV. 39', [35, (4.627184, -74.068643)])\n",
        "        self.stations.setdefault('Calle 34', [36, (4.621390, -74.069805)])\n",
        "        self.stations.setdefault('Calle 26', [37, (4.616961, -74.072159)])\n",
        "        self.stations.setdefault('Calle 22', [38, (4.611033, -74.075079)])\n",
        "        self.stations.setdefault('Calle 19', [39, (4.608302, -74.076608)])\n",
        "        self.stations.setdefault('Concejo de Bogotá', [40, (4.626496, -74.080722)])\n",
        "        self.stations.setdefault('Centro Memoria', [41, (4.621915, -74.077436)])\n",
        "        self.stations.setdefault('U. Nacional', [42, (4.636493, -74.079328)])\n",
        "    \n",
        "    def distance(self, frm, to):\n",
        "        #print(frm, to)\n",
        "        return float(great_circle(frm, to).meters)\n",
        "\n",
        "    #CREAR CONEXIONES-ARISTAS\n",
        "    def set_connections_stations(self, frm, to):\n",
        "        frm = vertex[self.stations[frm][0]]\n",
        "        to = vertex[self.stations[to][0]]\n",
        "\n",
        "        cost = self.distance(frm.get_coordinates(), to.get_coordinates())\n",
        "        g.add_edge(frm.get_id(), to.get_id(), cost)\n",
        "\n",
        "    def get_station_by_id(self, dictionary, value):\n",
        "        for s in dictionary:\n",
        "            if dictionary[s][0] == value:\n",
        "                return s\n",
        "        return None\n",
        "\n",
        "    def convert_id_to_station(self, list_stations_id):\n",
        "        new_list = []\n",
        "        for id in list_stations_id:\n",
        "            name_station = self.get_station_by_id(self.stations, id)\n",
        "            new_list.append(name_station)\n",
        "        return new_list"
      ],
      "execution_count": 0,
      "outputs": []
    },
    {
      "cell_type": "markdown",
      "metadata": {
        "id": "Pt3WbR4tL9Az",
        "colab_type": "text"
      },
      "source": [
        "# **Inicializacion de objetos**\n",
        "\n",
        "Para poder utilizar las funciones, crear y tener acceso al grafo y a las estaciones se procede a instanciar objetos de algunas clases vistas anteriormente.\n",
        "\n",
        "> `g` sera el objeto del grafo, almacena el grafo y los vertices, ademas tiene las operaciones para agregar vertices y aristas con los pesos correspondientes.\n",
        "\n",
        "> `s` va a ser el objeto para la clase `Station`, el cual contiene el diccionario con las estaciones a crear y las operaciones sobre estas estaciones.\n",
        "\n",
        "Por ultimo, tenemos la variable `tree`, el cual actuara como instancia de la clase `TreeSearch`, y contendra todos los elementos para la busqueda de rutas mas cortas utilizando diferentes algoritmos informados y no informados."
      ]
    },
    {
      "cell_type": "code",
      "metadata": {
        "id": "OdC1dce6Heon",
        "colab_type": "code",
        "colab": {}
      },
      "source": [
        "g = Graph()\n",
        "s = Station()\n",
        "tree = TreeSearch(g)"
      ],
      "execution_count": 0,
      "outputs": []
    },
    {
      "cell_type": "markdown",
      "metadata": {
        "id": "kTwWvBrCM07N",
        "colab_type": "text"
      },
      "source": [
        "# **Construccion de las estaciones**\n",
        "\n",
        "Mediante el metodo `build_all_stations` de la clase `Station` construimos todas las estaciones que vamos a utilizar y posteriormente guardandolas en el diccionario que se aloja en la anterior clase mencionada.\n",
        "\n",
        "Por ultimo verificamos que todas las estaciones se hayan ingresado correctamente."
      ]
    },
    {
      "cell_type": "code",
      "metadata": {
        "id": "s-Nhb7F8ALUW",
        "colab_type": "code",
        "colab": {
          "base_uri": "https://localhost:8080/",
          "height": 748
        },
        "outputId": "b1e2adf9-3981-44f4-b613-42dce8e5880e"
      },
      "source": [
        "s.build_all_stations()\n",
        "s.stations"
      ],
      "execution_count": 8,
      "outputs": [
        {
          "output_type": "execute_result",
          "data": {
            "text/plain": [
              "{'AV. 39': [35, (4.627184, -74.068643)],\n",
              " 'AV. Chile': [14, (4.665962, -74.074819)],\n",
              " 'AV. El Dorado': [18, (4.630541, -74.079891)],\n",
              " 'AV. Jiménez': [24, (4.603037, -74.079164)],\n",
              " 'Alcala': [6, (4.720287, -74.051641)],\n",
              " 'CAD': [19, (4.622983, -74.084559)],\n",
              " 'Calle 100': [11, (4.6848, -74.05757)],\n",
              " 'Calle 106': [10, (4.691557, -74.056421)],\n",
              " 'Calle 127': [8, (4.704787, -74.05423)],\n",
              " 'Calle 142': [5, (4.726947, -74.050305)],\n",
              " 'Calle 146': [4, (4.730832, -74.049868)],\n",
              " 'Calle 161': [2, (4.742706, -74.047863)],\n",
              " 'Calle 19': [39, (4.608302, -74.076608)],\n",
              " 'Calle 22': [38, (4.611033, -74.075079)],\n",
              " 'Calle 26': [37, (4.616961, -74.072159)],\n",
              " 'Calle 34': [36, (4.62139, -74.069805)],\n",
              " 'Calle 45': [34, (4.632661, -74.067665)],\n",
              " 'Calle 57': [32, (4.642917, -74.065879)],\n",
              " 'Calle 63': [31, (4.648914, -74.06481)],\n",
              " 'Calle 72': [29, (4.659261, -74.061922)],\n",
              " 'Calle 76': [28, (4.664031, -74.061083)],\n",
              " 'Calle 85': [26, (4.671851, -74.059702)],\n",
              " 'Campin - U. Antonio Nariño': [17, (4.644847, -74.078777)],\n",
              " 'Centro Memoria': [41, (4.621915, -74.077436)],\n",
              " 'Concejo de Bogotá': [40, (4.626496, -74.080722)],\n",
              " 'De La Sabana': [23, (4.605659, -74.082138)],\n",
              " 'Flores': [30, (4.654878, -74.063021)],\n",
              " 'Héroes': [27, (4.668311, -74.06021)],\n",
              " 'La Castellana': [12, (4.676243, -74.063387)],\n",
              " 'Marly': [33, (4.636587, -74.066936)],\n",
              " 'Mazuren': [3, (4.734499, -74.049242)],\n",
              " 'Movistar Arena': [16, (4.650119, -74.078363)],\n",
              " 'NQS-Calle 75': [13, (4.670653, -74.070593)],\n",
              " 'Paloquemao': [20, (4.617084, -74.089525)],\n",
              " 'Pepe Sierra': [9, (4.698795, -74.055251)],\n",
              " 'Portal Norte': [0, (4.754228, -74.046161)],\n",
              " 'Prado': [7, (4.713173, -74.052682)],\n",
              " 'Ricaurte': [21, (4.612523, -74.093075)],\n",
              " 'San Façon': [22, (4.609549, -74.08654)],\n",
              " 'Simon Bolivar': [15, (4.658008, -74.077797)],\n",
              " 'Toberin': [1, (4.746185, -74.047279)],\n",
              " 'U. Nacional': [42, (4.636493, -74.079328)],\n",
              " 'Virrey': [25, (4.675857, -74.059144)]}"
            ]
          },
          "metadata": {
            "tags": []
          },
          "execution_count": 8
        }
      ]
    },
    {
      "cell_type": "markdown",
      "metadata": {
        "id": "em_jgPbPNemw",
        "colab_type": "text"
      },
      "source": [
        "# **Agregar vertices al grafo**\n",
        "\n",
        "Cada estacion es un estado del problema, por lo tanto cada estacion sera un vertice del grafo.\n",
        "\n",
        "> Para lograr esto se añadira cada estacion como un vertice, apoyandonos en la funcion `add_vertex` de la clase `Graph` utilizando solamente el id de la estacion y las coordenadas que estan guardadas en el diccionario de estaciones.\n",
        "\n",
        "Por ultimo se verifican que los vertices se hayan agregado correctamente y que se haya creado el diccionario correctamente guardando todos los ids en un nuevo diccionario de muestra."
      ]
    },
    {
      "cell_type": "code",
      "metadata": {
        "id": "eXBpW-M6aQu9",
        "colab_type": "code",
        "outputId": "cc62301f-1c10-4377-dbe8-6afcddffef02",
        "colab": {
          "base_uri": "https://localhost:8080/",
          "height": 748
        }
      },
      "source": [
        "vertex = {}\n",
        "#CREAR VERTICES\n",
        "i = 0\n",
        "for index in s.stations:\n",
        "    v = g.add_vertex(s.stations[index][0], s.stations[index][1])\n",
        "    #print(s.stations[index][0], s.stations[index][1])\n",
        "    vertex.setdefault(i, v)\n",
        "    i = i + 1\n",
        "\n",
        "vertex"
      ],
      "execution_count": 9,
      "outputs": [
        {
          "output_type": "execute_result",
          "data": {
            "text/plain": [
              "{0: 0, (4.754228, -74.046161),\n",
              " 1: 1, (4.746185, -74.047279),\n",
              " 2: 2, (4.742706, -74.047863),\n",
              " 3: 3, (4.734499, -74.049242),\n",
              " 4: 4, (4.730832, -74.049868),\n",
              " 5: 5, (4.726947, -74.050305),\n",
              " 6: 6, (4.720287, -74.051641),\n",
              " 7: 7, (4.713173, -74.052682),\n",
              " 8: 8, (4.704787, -74.05423),\n",
              " 9: 9, (4.698795, -74.055251),\n",
              " 10: 10, (4.691557, -74.056421),\n",
              " 11: 11, (4.6848, -74.05757),\n",
              " 12: 12, (4.676243, -74.063387),\n",
              " 13: 13, (4.670653, -74.070593),\n",
              " 14: 14, (4.665962, -74.074819),\n",
              " 15: 15, (4.658008, -74.077797),\n",
              " 16: 16, (4.650119, -74.078363),\n",
              " 17: 17, (4.644847, -74.078777),\n",
              " 18: 18, (4.630541, -74.079891),\n",
              " 19: 19, (4.622983, -74.084559),\n",
              " 20: 20, (4.617084, -74.089525),\n",
              " 21: 21, (4.612523, -74.093075),\n",
              " 22: 22, (4.609549, -74.08654),\n",
              " 23: 23, (4.605659, -74.082138),\n",
              " 24: 24, (4.603037, -74.079164),\n",
              " 25: 25, (4.675857, -74.059144),\n",
              " 26: 26, (4.671851, -74.059702),\n",
              " 27: 27, (4.668311, -74.06021),\n",
              " 28: 28, (4.664031, -74.061083),\n",
              " 29: 29, (4.659261, -74.061922),\n",
              " 30: 30, (4.654878, -74.063021),\n",
              " 31: 31, (4.648914, -74.06481),\n",
              " 32: 32, (4.642917, -74.065879),\n",
              " 33: 33, (4.636587, -74.066936),\n",
              " 34: 34, (4.632661, -74.067665),\n",
              " 35: 35, (4.627184, -74.068643),\n",
              " 36: 36, (4.62139, -74.069805),\n",
              " 37: 37, (4.616961, -74.072159),\n",
              " 38: 38, (4.611033, -74.075079),\n",
              " 39: 39, (4.608302, -74.076608),\n",
              " 40: 40, (4.626496, -74.080722),\n",
              " 41: 41, (4.621915, -74.077436),\n",
              " 42: 42, (4.636493, -74.079328)}"
            ]
          },
          "metadata": {
            "tags": []
          },
          "execution_count": 9
        }
      ]
    },
    {
      "cell_type": "code",
      "metadata": {
        "id": "rdA-eWnhObsD",
        "colab_type": "code",
        "colab": {
          "base_uri": "https://localhost:8080/",
          "height": 748
        },
        "outputId": "8d274e53-c7cf-445e-dc05-af25dbb04a60"
      },
      "source": [
        "g.get_dictionary()"
      ],
      "execution_count": 10,
      "outputs": [
        {
          "output_type": "execute_result",
          "data": {
            "text/plain": [
              "{0: [],\n",
              " 1: [],\n",
              " 2: [],\n",
              " 3: [],\n",
              " 4: [],\n",
              " 5: [],\n",
              " 6: [],\n",
              " 7: [],\n",
              " 8: [],\n",
              " 9: [],\n",
              " 10: [],\n",
              " 11: [],\n",
              " 12: [],\n",
              " 13: [],\n",
              " 14: [],\n",
              " 15: [],\n",
              " 16: [],\n",
              " 17: [],\n",
              " 18: [],\n",
              " 19: [],\n",
              " 20: [],\n",
              " 21: [],\n",
              " 22: [],\n",
              " 23: [],\n",
              " 24: [],\n",
              " 25: [],\n",
              " 26: [],\n",
              " 27: [],\n",
              " 28: [],\n",
              " 29: [],\n",
              " 30: [],\n",
              " 31: [],\n",
              " 32: [],\n",
              " 33: [],\n",
              " 34: [],\n",
              " 35: [],\n",
              " 36: [],\n",
              " 37: [],\n",
              " 38: [],\n",
              " 39: [],\n",
              " 40: [],\n",
              " 41: [],\n",
              " 42: []}"
            ]
          },
          "metadata": {
            "tags": []
          },
          "execution_count": 10
        }
      ]
    },
    {
      "cell_type": "markdown",
      "metadata": {
        "id": "8ESypaalOeLG",
        "colab_type": "text"
      },
      "source": [
        "# **Impresion de las estaciones**\n",
        "\n",
        "Para verificar que las estaciones e hayan agregado se imprime el id y el nombre de la estacion."
      ]
    },
    {
      "cell_type": "code",
      "metadata": {
        "id": "s6hpnSp7YmzB",
        "colab_type": "code",
        "colab": {
          "base_uri": "https://localhost:8080/",
          "height": 748
        },
        "outputId": "3e6732ce-1e2f-426d-eb36-dde821c0f1f2"
      },
      "source": [
        "for station in s.stations:\n",
        "    print(station)"
      ],
      "execution_count": 11,
      "outputs": [
        {
          "output_type": "stream",
          "text": [
            "Portal Norte\n",
            "Toberin\n",
            "Calle 161\n",
            "Mazuren\n",
            "Calle 146\n",
            "Calle 142\n",
            "Alcala\n",
            "Prado\n",
            "Calle 127\n",
            "Pepe Sierra\n",
            "Calle 106\n",
            "Calle 100\n",
            "La Castellana\n",
            "NQS-Calle 75\n",
            "AV. Chile\n",
            "Simon Bolivar\n",
            "Movistar Arena\n",
            "Campin - U. Antonio Nariño\n",
            "AV. El Dorado\n",
            "CAD\n",
            "Paloquemao\n",
            "Ricaurte\n",
            "San Façon\n",
            "De La Sabana\n",
            "AV. Jiménez\n",
            "Virrey\n",
            "Calle 85\n",
            "Héroes\n",
            "Calle 76\n",
            "Calle 72\n",
            "Flores\n",
            "Calle 63\n",
            "Calle 57\n",
            "Marly\n",
            "Calle 45\n",
            "AV. 39\n",
            "Calle 34\n",
            "Calle 26\n",
            "Calle 22\n",
            "Calle 19\n",
            "Concejo de Bogotá\n",
            "Centro Memoria\n",
            "U. Nacional\n"
          ],
          "name": "stdout"
        }
      ]
    },
    {
      "cell_type": "code",
      "metadata": {
        "id": "-uFY0eP0jdWD",
        "colab_type": "code",
        "outputId": "4011d914-54fc-475a-fc33-134675fdcbd9",
        "colab": {
          "base_uri": "https://localhost:8080/",
          "height": 748
        }
      },
      "source": [
        "for station in s.stations:\n",
        "    print(s.stations[station][0], station)"
      ],
      "execution_count": 12,
      "outputs": [
        {
          "output_type": "stream",
          "text": [
            "0 Portal Norte\n",
            "1 Toberin\n",
            "2 Calle 161\n",
            "3 Mazuren\n",
            "4 Calle 146\n",
            "5 Calle 142\n",
            "6 Alcala\n",
            "7 Prado\n",
            "8 Calle 127\n",
            "9 Pepe Sierra\n",
            "10 Calle 106\n",
            "11 Calle 100\n",
            "12 La Castellana\n",
            "13 NQS-Calle 75\n",
            "14 AV. Chile\n",
            "15 Simon Bolivar\n",
            "16 Movistar Arena\n",
            "17 Campin - U. Antonio Nariño\n",
            "18 AV. El Dorado\n",
            "19 CAD\n",
            "20 Paloquemao\n",
            "21 Ricaurte\n",
            "22 San Façon\n",
            "23 De La Sabana\n",
            "24 AV. Jiménez\n",
            "25 Virrey\n",
            "26 Calle 85\n",
            "27 Héroes\n",
            "28 Calle 76\n",
            "29 Calle 72\n",
            "30 Flores\n",
            "31 Calle 63\n",
            "32 Calle 57\n",
            "33 Marly\n",
            "34 Calle 45\n",
            "35 AV. 39\n",
            "36 Calle 34\n",
            "37 Calle 26\n",
            "38 Calle 22\n",
            "39 Calle 19\n",
            "40 Concejo de Bogotá\n",
            "41 Centro Memoria\n",
            "42 U. Nacional\n"
          ],
          "name": "stdout"
        }
      ]
    },
    {
      "cell_type": "markdown",
      "metadata": {
        "id": "mx6CrLuwOq6k",
        "colab_type": "text"
      },
      "source": [
        "# **Conectar estaciones**\n",
        "\n",
        "Utilizando la funcion `Station.distance` para obtener el costo entre 2 estaciones y luego `Graph.add_edge` para conectar 2 vertices, se procede a crear las conexiones entre 2 estaciones con el metodo `Station.set_connections_stations`, pasandole como parametros el nombre de las 2 estaciones a conectar. Este metodo busca las estaciones y escoge el id de cada estacion para luego buscar su vertice correspondiente con este numero de identificacion qeu se aloja en el diccionario del grafo, conectandolos asi utilizando el objeto `g` de la clase `Graph.`."
      ]
    },
    {
      "cell_type": "code",
      "metadata": {
        "id": "EOVu_KPmjP_S",
        "colab_type": "code",
        "outputId": "841a832d-a61e-46d1-b975-1b2f0bad7003",
        "colab": {
          "base_uri": "https://localhost:8080/",
          "height": 748
        }
      },
      "source": [
        "s.set_connections_stations('Portal Norte', 'Toberin')\n",
        "s.set_connections_stations('Toberin', 'Calle 161')\n",
        "s.set_connections_stations('Calle 161', 'Mazuren')\n",
        "s.set_connections_stations('Mazuren', 'Calle 146')\n",
        "s.set_connections_stations('Calle 146', 'Calle 142')\n",
        "s.set_connections_stations('Calle 142', 'Alcala')\n",
        "s.set_connections_stations('Alcala', 'Prado')\n",
        "s.set_connections_stations('Prado', 'Calle 127')\n",
        "s.set_connections_stations('Calle 127', 'Pepe Sierra')\n",
        "s.set_connections_stations('Pepe Sierra', 'Calle 106')\n",
        "s.set_connections_stations('Calle 106', 'Calle 100')\n",
        "s.set_connections_stations('Calle 100', 'La Castellana')\n",
        "s.set_connections_stations('La Castellana', 'NQS-Calle 75')\n",
        "s.set_connections_stations('NQS-Calle 75', 'AV. Chile')\n",
        "s.set_connections_stations('AV. Chile', 'Simon Bolivar')\n",
        "s.set_connections_stations('Simon Bolivar', 'Movistar Arena')\n",
        "s.set_connections_stations('Movistar Arena', 'Campin - U. Antonio Nariño')\n",
        "s.set_connections_stations('Campin - U. Antonio Nariño', 'U. Nacional')\n",
        "s.set_connections_stations('U. Nacional', 'AV. El Dorado')\n",
        "s.set_connections_stations('AV. El Dorado', 'CAD')\n",
        "s.set_connections_stations('CAD', 'Paloquemao')\n",
        "s.set_connections_stations('Paloquemao', 'Ricaurte')\n",
        "s.set_connections_stations('Ricaurte', 'San Façon')\n",
        "s.set_connections_stations('San Façon', 'De La Sabana')\n",
        "s.set_connections_stations('De La Sabana', 'AV. Jiménez')\n",
        "s.set_connections_stations('Calle 100', 'Virrey')\n",
        "s.set_connections_stations('Virrey', 'Calle 85')\n",
        "s.set_connections_stations('Calle 85', 'Héroes')\n",
        "s.set_connections_stations('Héroes', 'Calle 76')\n",
        "s.set_connections_stations('Calle 76', 'Calle 72')\n",
        "s.set_connections_stations('Calle 72', 'Flores')\n",
        "s.set_connections_stations('Flores', 'Calle 63')\n",
        "s.set_connections_stations('Calle 63', 'Calle 57')\n",
        "s.set_connections_stations('Calle 57', 'Marly')\n",
        "s.set_connections_stations('Marly', 'Calle 45')\n",
        "s.set_connections_stations('Calle 45', 'AV. 39')\n",
        "s.set_connections_stations('AV. 39', 'Calle 34')\n",
        "s.set_connections_stations('Calle 34', 'Calle 26')\n",
        "s.set_connections_stations('Calle 26', 'Calle 22')\n",
        "s.set_connections_stations('Calle 22', 'Calle 19')\n",
        "s.set_connections_stations('Calle 19', 'AV. Jiménez')\n",
        "s.set_connections_stations('Calle 26', 'Centro Memoria')\n",
        "s.set_connections_stations('Centro Memoria', 'Concejo de Bogotá')\n",
        "s.set_connections_stations('Concejo de Bogotá', 'AV. El Dorado')\n",
        "s.set_connections_stations('Concejo de Bogotá', 'CAD')\n",
        "\n",
        "g.get_dictionary()"
      ],
      "execution_count": 13,
      "outputs": [
        {
          "output_type": "execute_result",
          "data": {
            "text/plain": [
              "{0: [1],\n",
              " 1: [0, 2],\n",
              " 2: [1, 3],\n",
              " 3: [2, 4],\n",
              " 4: [3, 5],\n",
              " 5: [4, 6],\n",
              " 6: [5, 7],\n",
              " 7: [6, 8],\n",
              " 8: [7, 9],\n",
              " 9: [8, 10],\n",
              " 10: [9, 11],\n",
              " 11: [10, 12, 25],\n",
              " 12: [11, 13],\n",
              " 13: [12, 14],\n",
              " 14: [13, 15],\n",
              " 15: [14, 16],\n",
              " 16: [15, 17],\n",
              " 17: [16, 42],\n",
              " 18: [42, 19, 40],\n",
              " 19: [18, 20, 40],\n",
              " 20: [19, 21],\n",
              " 21: [20, 22],\n",
              " 22: [21, 23],\n",
              " 23: [22, 24],\n",
              " 24: [23, 39],\n",
              " 25: [11, 26],\n",
              " 26: [25, 27],\n",
              " 27: [26, 28],\n",
              " 28: [27, 29],\n",
              " 29: [28, 30],\n",
              " 30: [29, 31],\n",
              " 31: [30, 32],\n",
              " 32: [31, 33],\n",
              " 33: [32, 34],\n",
              " 34: [33, 35],\n",
              " 35: [34, 36],\n",
              " 36: [35, 37],\n",
              " 37: [36, 38, 41],\n",
              " 38: [37, 39],\n",
              " 39: [38, 24],\n",
              " 40: [41, 18, 19],\n",
              " 41: [37, 40],\n",
              " 42: [17, 18]}"
            ]
          },
          "metadata": {
            "tags": []
          },
          "execution_count": 13
        }
      ]
    },
    {
      "cell_type": "markdown",
      "metadata": {
        "id": "GMai5NzmQF-Y",
        "colab_type": "text"
      },
      "source": [
        "**Verificar Conexion**\n",
        "\n",
        "Se imprime la creacion del grafo, la conexion entre cada nodo y su peso. Por ultimo se muestran los vertices adyacentes por cada vertice."
      ]
    },
    {
      "cell_type": "code",
      "metadata": {
        "id": "2wL8af1RaS6U",
        "colab_type": "code",
        "outputId": "b61e16b6-9090-4fc8-bfd5-a12e2a7b7732",
        "colab": {
          "base_uri": "https://localhost:8080/",
          "height": 1000
        }
      },
      "source": [
        "for v in g:\n",
        "    for w in v.get_connections():\n",
        "        vid = v.get_id()\n",
        "        wid = w.get_id()\n",
        "        print ('( %s , %s, %3d)'  % ( vid, wid, v.get_weight(w)))\n",
        "\n",
        "for v in g:\n",
        "    print ('g.vert_dict[%s]=%s' %(v.get_id(), g.vert_dict[v.get_id()]))\n"
      ],
      "execution_count": 14,
      "outputs": [
        {
          "output_type": "stream",
          "text": [
            "( 0 , 1, 902)\n",
            "( 1 , 0, 902)\n",
            "( 1 , 2, 392)\n",
            "( 2 , 1, 392)\n",
            "( 2 , 3, 925)\n",
            "( 3 , 2, 925)\n",
            "( 3 , 4, 413)\n",
            "( 4 , 3, 413)\n",
            "( 4 , 5, 434)\n",
            "( 5 , 4, 434)\n",
            "( 5 , 6, 755)\n",
            "( 6 , 5, 755)\n",
            "( 6 , 7, 799)\n",
            "( 7 , 6, 799)\n",
            "( 7 , 8, 948)\n",
            "( 8 , 7, 948)\n",
            "( 8 , 9, 675)\n",
            "( 9 , 8, 675)\n",
            "( 9 , 10, 815)\n",
            "( 10 , 9, 815)\n",
            "( 10 , 11, 762)\n",
            "( 11 , 10, 762)\n",
            "( 11 , 12, 1149)\n",
            "( 11 , 25, 1009)\n",
            "( 12 , 11, 1149)\n",
            "( 12 , 13, 1011)\n",
            "( 13 , 12, 1011)\n",
            "( 13 , 14, 701)\n",
            "( 14 , 13, 701)\n",
            "( 14 , 15, 944)\n",
            "( 15 , 14, 944)\n",
            "( 15 , 16, 879)\n",
            "( 16 , 15, 879)\n",
            "( 16 , 17, 588)\n",
            "( 17 , 16, 588)\n",
            "( 17 , 42, 930)\n",
            "( 18 , 42, 664)\n",
            "( 18 , 19, 986)\n",
            "( 18 , 40, 459)\n",
            "( 19 , 18, 986)\n",
            "( 19 , 20, 856)\n",
            "( 19 , 40, 577)\n",
            "( 20 , 19, 856)\n",
            "( 20 , 21, 641)\n",
            "( 21 , 20, 641)\n",
            "( 21 , 22, 796)\n",
            "( 22 , 21, 796)\n",
            "( 22 , 23, 652)\n",
            "( 23 , 22, 652)\n",
            "( 23 , 24, 440)\n",
            "( 24 , 23, 440)\n",
            "( 24 , 39, 650)\n",
            "( 25 , 11, 1009)\n",
            "( 25 , 26, 449)\n",
            "( 26 , 25, 449)\n",
            "( 26 , 27, 397)\n",
            "( 27 , 26, 397)\n",
            "( 27 , 28, 485)\n",
            "( 28 , 27, 485)\n",
            "( 28 , 29, 538)\n",
            "( 29 , 28, 538)\n",
            "( 29 , 30, 502)\n",
            "( 30 , 29, 502)\n",
            "( 30 , 31, 692)\n",
            "( 31 , 30, 692)\n",
            "( 31 , 32, 677)\n",
            "( 32 , 31, 677)\n",
            "( 32 , 33, 713)\n",
            "( 33 , 32, 713)\n",
            "( 33 , 34, 443)\n",
            "( 34 , 33, 443)\n",
            "( 34 , 35, 618)\n",
            "( 35 , 34, 618)\n",
            "( 35 , 36, 657)\n",
            "( 36 , 35, 657)\n",
            "( 36 , 37, 557)\n",
            "( 37 , 36, 557)\n",
            "( 37 , 38, 734)\n",
            "( 37 , 41, 803)\n",
            "( 38 , 37, 734)\n",
            "( 38 , 39, 347)\n",
            "( 39 , 38, 347)\n",
            "( 39 , 24, 650)\n",
            "( 40 , 41, 626)\n",
            "( 40 , 18, 459)\n",
            "( 40 , 19, 577)\n",
            "( 41 , 37, 803)\n",
            "( 41 , 40, 626)\n",
            "( 42 , 17, 930)\n",
            "( 42 , 18, 664)\n",
            "g.vert_dict[0]=0 adjacent: [1]\n",
            "g.vert_dict[1]=1 adjacent: [0, 2]\n",
            "g.vert_dict[2]=2 adjacent: [1, 3]\n",
            "g.vert_dict[3]=3 adjacent: [2, 4]\n",
            "g.vert_dict[4]=4 adjacent: [3, 5]\n",
            "g.vert_dict[5]=5 adjacent: [4, 6]\n",
            "g.vert_dict[6]=6 adjacent: [5, 7]\n",
            "g.vert_dict[7]=7 adjacent: [6, 8]\n",
            "g.vert_dict[8]=8 adjacent: [7, 9]\n",
            "g.vert_dict[9]=9 adjacent: [8, 10]\n",
            "g.vert_dict[10]=10 adjacent: [9, 11]\n",
            "g.vert_dict[11]=11 adjacent: [10, 12, 25]\n",
            "g.vert_dict[12]=12 adjacent: [11, 13]\n",
            "g.vert_dict[13]=13 adjacent: [12, 14]\n",
            "g.vert_dict[14]=14 adjacent: [13, 15]\n",
            "g.vert_dict[15]=15 adjacent: [14, 16]\n",
            "g.vert_dict[16]=16 adjacent: [15, 17]\n",
            "g.vert_dict[17]=17 adjacent: [16, 42]\n",
            "g.vert_dict[18]=18 adjacent: [42, 19, 40]\n",
            "g.vert_dict[19]=19 adjacent: [18, 20, 40]\n",
            "g.vert_dict[20]=20 adjacent: [19, 21]\n",
            "g.vert_dict[21]=21 adjacent: [20, 22]\n",
            "g.vert_dict[22]=22 adjacent: [21, 23]\n",
            "g.vert_dict[23]=23 adjacent: [22, 24]\n",
            "g.vert_dict[24]=24 adjacent: [23, 39]\n",
            "g.vert_dict[25]=25 adjacent: [11, 26]\n",
            "g.vert_dict[26]=26 adjacent: [25, 27]\n",
            "g.vert_dict[27]=27 adjacent: [26, 28]\n",
            "g.vert_dict[28]=28 adjacent: [27, 29]\n",
            "g.vert_dict[29]=29 adjacent: [28, 30]\n",
            "g.vert_dict[30]=30 adjacent: [29, 31]\n",
            "g.vert_dict[31]=31 adjacent: [30, 32]\n",
            "g.vert_dict[32]=32 adjacent: [31, 33]\n",
            "g.vert_dict[33]=33 adjacent: [32, 34]\n",
            "g.vert_dict[34]=34 adjacent: [33, 35]\n",
            "g.vert_dict[35]=35 adjacent: [34, 36]\n",
            "g.vert_dict[36]=36 adjacent: [35, 37]\n",
            "g.vert_dict[37]=37 adjacent: [36, 38, 41]\n",
            "g.vert_dict[38]=38 adjacent: [37, 39]\n",
            "g.vert_dict[39]=39 adjacent: [38, 24]\n",
            "g.vert_dict[40]=40 adjacent: [41, 18, 19]\n",
            "g.vert_dict[41]=41 adjacent: [37, 40]\n",
            "g.vert_dict[42]=42 adjacent: [17, 18]\n"
          ],
          "name": "stdout"
        }
      ]
    },
    {
      "cell_type": "code",
      "metadata": {
        "id": "TV3JYRrf42J2",
        "colab_type": "code",
        "colab": {
          "base_uri": "https://localhost:8080/",
          "height": 51
        },
        "outputId": "1bc2213e-45ef-46a1-fd40-d07b36089cb1"
      },
      "source": [
        "#IMPRIMIMOS LOS NODOS ADYACENTES DEL VERTICE UNO CON SUS RESPECTIVOS PESOS\n",
        "g.get_vertex(1).adjacent"
      ],
      "execution_count": 15,
      "outputs": [
        {
          "output_type": "execute_result",
          "data": {
            "text/plain": [
              "{0, (4.754228, -74.046161): 902.8821779537834,\n",
              " 2, (4.742706, -74.047863): 392.22343861011296}"
            ]
          },
          "metadata": {
            "tags": []
          },
          "execution_count": 15
        }
      ]
    },
    {
      "cell_type": "code",
      "metadata": {
        "id": "K_Gecr68m74l",
        "colab_type": "code",
        "colab": {
          "base_uri": "https://localhost:8080/",
          "height": 34
        },
        "outputId": "e0e1fa25-1595-49f5-deca-12ac4a6e0881"
      },
      "source": [
        "#IMPRIMIR UN DICCIONARIO CON LOS NODOS ADYACENTES Y SUS PESOS DEL NODO 1\n",
        "g.get_vertex(1).get_dict_childrens_weights()"
      ],
      "execution_count": 16,
      "outputs": [
        {
          "output_type": "execute_result",
          "data": {
            "text/plain": [
              "{0: 902.8821779537834, 2: 392.22343861011296}"
            ]
          },
          "metadata": {
            "tags": []
          },
          "execution_count": 16
        }
      ]
    },
    {
      "cell_type": "code",
      "metadata": {
        "id": "SYMksenB5lfA",
        "colab_type": "code",
        "colab": {
          "base_uri": "https://localhost:8080/",
          "height": 748
        },
        "outputId": "f0e24918-395c-46a9-f7bc-663163cedcb8"
      },
      "source": [
        "#IMPRIMIR EL DICCIONARIO DEL GRAFO COMPLETO\n",
        "#TIENE EL FORMATO {id: obj<Graph>}\n",
        "g.vert_dict"
      ],
      "execution_count": 17,
      "outputs": [
        {
          "output_type": "execute_result",
          "data": {
            "text/plain": [
              "{0: 0, (4.754228, -74.046161),\n",
              " 1: 1, (4.746185, -74.047279),\n",
              " 2: 2, (4.742706, -74.047863),\n",
              " 3: 3, (4.734499, -74.049242),\n",
              " 4: 4, (4.730832, -74.049868),\n",
              " 5: 5, (4.726947, -74.050305),\n",
              " 6: 6, (4.720287, -74.051641),\n",
              " 7: 7, (4.713173, -74.052682),\n",
              " 8: 8, (4.704787, -74.05423),\n",
              " 9: 9, (4.698795, -74.055251),\n",
              " 10: 10, (4.691557, -74.056421),\n",
              " 11: 11, (4.6848, -74.05757),\n",
              " 12: 12, (4.676243, -74.063387),\n",
              " 13: 13, (4.670653, -74.070593),\n",
              " 14: 14, (4.665962, -74.074819),\n",
              " 15: 15, (4.658008, -74.077797),\n",
              " 16: 16, (4.650119, -74.078363),\n",
              " 17: 17, (4.644847, -74.078777),\n",
              " 18: 18, (4.630541, -74.079891),\n",
              " 19: 19, (4.622983, -74.084559),\n",
              " 20: 20, (4.617084, -74.089525),\n",
              " 21: 21, (4.612523, -74.093075),\n",
              " 22: 22, (4.609549, -74.08654),\n",
              " 23: 23, (4.605659, -74.082138),\n",
              " 24: 24, (4.603037, -74.079164),\n",
              " 25: 25, (4.675857, -74.059144),\n",
              " 26: 26, (4.671851, -74.059702),\n",
              " 27: 27, (4.668311, -74.06021),\n",
              " 28: 28, (4.664031, -74.061083),\n",
              " 29: 29, (4.659261, -74.061922),\n",
              " 30: 30, (4.654878, -74.063021),\n",
              " 31: 31, (4.648914, -74.06481),\n",
              " 32: 32, (4.642917, -74.065879),\n",
              " 33: 33, (4.636587, -74.066936),\n",
              " 34: 34, (4.632661, -74.067665),\n",
              " 35: 35, (4.627184, -74.068643),\n",
              " 36: 36, (4.62139, -74.069805),\n",
              " 37: 37, (4.616961, -74.072159),\n",
              " 38: 38, (4.611033, -74.075079),\n",
              " 39: 39, (4.608302, -74.076608),\n",
              " 40: 40, (4.626496, -74.080722),\n",
              " 41: 41, (4.621915, -74.077436),\n",
              " 42: 42, (4.636493, -74.079328)}"
            ]
          },
          "metadata": {
            "tags": []
          },
          "execution_count": 17
        }
      ]
    },
    {
      "cell_type": "code",
      "metadata": {
        "id": "nTfjoc9TX4hh",
        "colab_type": "code",
        "outputId": "0b3864ee-4879-439c-bbe9-bfd8f5ce88e1",
        "colab": {
          "base_uri": "https://localhost:8080/",
          "height": 748
        }
      },
      "source": [
        "#DICCIONARIO RESUMIDO DEL GRAFO Y SUIS CONEXIONES\n",
        "g.get_dictionary()"
      ],
      "execution_count": 18,
      "outputs": [
        {
          "output_type": "execute_result",
          "data": {
            "text/plain": [
              "{0: [1],\n",
              " 1: [0, 2],\n",
              " 2: [1, 3],\n",
              " 3: [2, 4],\n",
              " 4: [3, 5],\n",
              " 5: [4, 6],\n",
              " 6: [5, 7],\n",
              " 7: [6, 8],\n",
              " 8: [7, 9],\n",
              " 9: [8, 10],\n",
              " 10: [9, 11],\n",
              " 11: [10, 12, 25],\n",
              " 12: [11, 13],\n",
              " 13: [12, 14],\n",
              " 14: [13, 15],\n",
              " 15: [14, 16],\n",
              " 16: [15, 17],\n",
              " 17: [16, 42],\n",
              " 18: [42, 19, 40],\n",
              " 19: [18, 20, 40],\n",
              " 20: [19, 21],\n",
              " 21: [20, 22],\n",
              " 22: [21, 23],\n",
              " 23: [22, 24],\n",
              " 24: [23, 39],\n",
              " 25: [11, 26],\n",
              " 26: [25, 27],\n",
              " 27: [26, 28],\n",
              " 28: [27, 29],\n",
              " 29: [28, 30],\n",
              " 30: [29, 31],\n",
              " 31: [30, 32],\n",
              " 32: [31, 33],\n",
              " 33: [32, 34],\n",
              " 34: [33, 35],\n",
              " 35: [34, 36],\n",
              " 36: [35, 37],\n",
              " 37: [36, 38, 41],\n",
              " 38: [37, 39],\n",
              " 39: [38, 24],\n",
              " 40: [41, 18, 19],\n",
              " 41: [37, 40],\n",
              " 42: [17, 18]}"
            ]
          },
          "metadata": {
            "tags": []
          },
          "execution_count": 18
        }
      ]
    },
    {
      "cell_type": "code",
      "metadata": {
        "id": "TDULG3CJ_fq3",
        "colab_type": "code",
        "outputId": "dfc55e0f-260c-4377-b46b-9a00ab1c04b3",
        "colab": {
          "base_uri": "https://localhost:8080/",
          "height": 748
        }
      },
      "source": [
        "#ESTACIONES CREADAS\n",
        "s.stations"
      ],
      "execution_count": 19,
      "outputs": [
        {
          "output_type": "execute_result",
          "data": {
            "text/plain": [
              "{'AV. 39': [35, (4.627184, -74.068643)],\n",
              " 'AV. Chile': [14, (4.665962, -74.074819)],\n",
              " 'AV. El Dorado': [18, (4.630541, -74.079891)],\n",
              " 'AV. Jiménez': [24, (4.603037, -74.079164)],\n",
              " 'Alcala': [6, (4.720287, -74.051641)],\n",
              " 'CAD': [19, (4.622983, -74.084559)],\n",
              " 'Calle 100': [11, (4.6848, -74.05757)],\n",
              " 'Calle 106': [10, (4.691557, -74.056421)],\n",
              " 'Calle 127': [8, (4.704787, -74.05423)],\n",
              " 'Calle 142': [5, (4.726947, -74.050305)],\n",
              " 'Calle 146': [4, (4.730832, -74.049868)],\n",
              " 'Calle 161': [2, (4.742706, -74.047863)],\n",
              " 'Calle 19': [39, (4.608302, -74.076608)],\n",
              " 'Calle 22': [38, (4.611033, -74.075079)],\n",
              " 'Calle 26': [37, (4.616961, -74.072159)],\n",
              " 'Calle 34': [36, (4.62139, -74.069805)],\n",
              " 'Calle 45': [34, (4.632661, -74.067665)],\n",
              " 'Calle 57': [32, (4.642917, -74.065879)],\n",
              " 'Calle 63': [31, (4.648914, -74.06481)],\n",
              " 'Calle 72': [29, (4.659261, -74.061922)],\n",
              " 'Calle 76': [28, (4.664031, -74.061083)],\n",
              " 'Calle 85': [26, (4.671851, -74.059702)],\n",
              " 'Campin - U. Antonio Nariño': [17, (4.644847, -74.078777)],\n",
              " 'Centro Memoria': [41, (4.621915, -74.077436)],\n",
              " 'Concejo de Bogotá': [40, (4.626496, -74.080722)],\n",
              " 'De La Sabana': [23, (4.605659, -74.082138)],\n",
              " 'Flores': [30, (4.654878, -74.063021)],\n",
              " 'Héroes': [27, (4.668311, -74.06021)],\n",
              " 'La Castellana': [12, (4.676243, -74.063387)],\n",
              " 'Marly': [33, (4.636587, -74.066936)],\n",
              " 'Mazuren': [3, (4.734499, -74.049242)],\n",
              " 'Movistar Arena': [16, (4.650119, -74.078363)],\n",
              " 'NQS-Calle 75': [13, (4.670653, -74.070593)],\n",
              " 'Paloquemao': [20, (4.617084, -74.089525)],\n",
              " 'Pepe Sierra': [9, (4.698795, -74.055251)],\n",
              " 'Portal Norte': [0, (4.754228, -74.046161)],\n",
              " 'Prado': [7, (4.713173, -74.052682)],\n",
              " 'Ricaurte': [21, (4.612523, -74.093075)],\n",
              " 'San Façon': [22, (4.609549, -74.08654)],\n",
              " 'Simon Bolivar': [15, (4.658008, -74.077797)],\n",
              " 'Toberin': [1, (4.746185, -74.047279)],\n",
              " 'U. Nacional': [42, (4.636493, -74.079328)],\n",
              " 'Virrey': [25, (4.675857, -74.059144)]}"
            ]
          },
          "metadata": {
            "tags": []
          },
          "execution_count": 19
        }
      ]
    },
    {
      "cell_type": "markdown",
      "metadata": {
        "id": "z4Ri2KNqRBw4",
        "colab_type": "text"
      },
      "source": [
        "# **Escoger estaciones de inicio y destino**\n",
        "\n",
        "Imaginemos que vamos a realizar un viaje desde una estacion a otra. para este caso se ha elegido como inicio el Portal Norte hasta la AV. Jimenez (Nodo 0 y nodo 24 correspondientemente).\n",
        "\n",
        "Para lograr esto obtenemos los nodos con la funcion `Graph.get_vertex` y los guardamos en una variable, lo que nos devolvera sera un objeto de la clase `Vertex`."
      ]
    },
    {
      "cell_type": "code",
      "metadata": {
        "id": "kOQRY4hjaTqT",
        "colab_type": "code",
        "colab": {}
      },
      "source": [
        "node_from = g.get_vertex(0)\n",
        "node_to = g.get_vertex(24)"
      ],
      "execution_count": 0,
      "outputs": []
    },
    {
      "cell_type": "markdown",
      "metadata": {
        "id": "RINZnNZJT8ex",
        "colab_type": "text"
      },
      "source": [
        "# **Ejecucion de los algoritmos de busqueda**\n",
        "\n",
        "Se procede a llamar a los metodos de busqueda alojados en la clase `TreeSearch`.\n",
        "\n",
        "> Todos los metodos devuelven la ruta mas corta en forma de id de cada nodo. En el caso de A* devuelve un arreglo con la ruta optima y su costo acumulado. Para eliminar este costo se coge solamente la parte del id del nodo que corresponde la camino de la ruta mas optima decidida por este algoritmo."
      ]
    },
    {
      "cell_type": "code",
      "metadata": {
        "id": "m7PuuC-OT6hh",
        "colab_type": "code",
        "colab": {}
      },
      "source": [
        "bfs = tree.bfs_shortest_path(node_from.get_id(), node_to.get_id())\n",
        "ucs = tree.ucs(node_from, node_to)\n",
        "\n",
        "tree.graph = g.get_dictionary()\n",
        "dfs = tree.dfs_paths(node_from.get_id(), node_to.get_id())\n",
        "\n",
        "tree.graph = g\n",
        "\n",
        "heuristic = tree.construct_heristic(g, s)\n",
        "a_star = tree.astar_search(g, heuristic, node_from.get_id(), node_to.get_id())\n",
        "\n",
        "for index, element in enumerate(a_star):\n",
        "    cad = element.split(':')\n",
        "    node = cad[0]\n",
        "    a_star[index] = int(node)\n",
        "\n",
        "#dijkstra = tree.a_star_search(g, node_from.get_id(), node_to.get_id(), heuris=False)\n"
      ],
      "execution_count": 0,
      "outputs": []
    },
    {
      "cell_type": "markdown",
      "metadata": {
        "id": "m4A5LsXUVwud",
        "colab_type": "text"
      },
      "source": [
        "# **Conversion de id a nombre de la estacion**\n",
        "\n",
        "Con el diccionario de estaciones podemos buscar que numero de identificacion tiene. Le pasamos la lista que contiene la ruta optima de cada algoritmo al metodo `Station.convert_id_to_station` para que nos devuelva la misma ruta pero con los nombres de la estacion."
      ]
    },
    {
      "cell_type": "code",
      "metadata": {
        "id": "Phjg4tqyVugT",
        "colab_type": "code",
        "colab": {}
      },
      "source": [
        "bfs_convert = s.convert_id_to_station(bfs)\n",
        "ucs_convert = s.convert_id_to_station(ucs)\n",
        "dfs_convert = s.convert_id_to_station(dfs)\n",
        "astar_convert = s.convert_id_to_station(a_star)\n",
        "\n",
        "\n",
        "#print('Dijkstra: ', dijkstra)"
      ],
      "execution_count": 0,
      "outputs": []
    },
    {
      "cell_type": "markdown",
      "metadata": {
        "id": "geufSHnKWEdu",
        "colab_type": "text"
      },
      "source": [
        "# **Impresion de las rutas optimas por algoritmo**"
      ]
    },
    {
      "cell_type": "code",
      "metadata": {
        "id": "4Z2BWq48WHlb",
        "colab_type": "code",
        "colab": {
          "base_uri": "https://localhost:8080/",
          "height": 105
        },
        "outputId": "78e421df-7e95-4b63-d18a-bd8952343c47"
      },
      "source": [
        "print(\"BFS: \" + str(bfs_convert))\n",
        "print('UCS: ' + str(ucs_convert))\n",
        "print(\"DFS: \" + str(dfs_convert))\n",
        "print('A*: ', astar_convert)"
      ],
      "execution_count": 23,
      "outputs": [
        {
          "output_type": "stream",
          "text": [
            "BFS: ['Portal Norte', 'Toberin', 'Calle 161', 'Mazuren', 'Calle 146', 'Calle 142', 'Alcala', 'Prado', 'Calle 127', 'Pepe Sierra', 'Calle 106', 'Calle 100', 'La Castellana', 'NQS-Calle 75', 'AV. Chile', 'Simon Bolivar', 'Movistar Arena', 'Campin - U. Antonio Nariño', 'U. Nacional', 'AV. El Dorado', 'CAD', 'Paloquemao', 'Ricaurte', 'San Façon', 'De La Sabana', 'AV. Jiménez']\n",
            "UCS: ['Portal Norte', 'Toberin', 'Calle 161', 'Mazuren', 'Calle 146', 'Calle 142', 'Alcala', 'Prado', 'Calle 127', 'Pepe Sierra', 'Calle 106', 'Calle 100', 'Virrey', 'Calle 85', 'Héroes', 'Calle 76', 'Calle 72', 'Flores', 'Calle 63', 'Calle 57', 'Marly', 'Calle 45', 'AV. 39', 'Calle 34', 'Calle 26', 'Calle 22', 'Calle 19', 'AV. Jiménez']\n",
            "DFS: ['Portal Norte', 'Toberin', 'Calle 161', 'Mazuren', 'Calle 146', 'Calle 142', 'Alcala', 'Prado', 'Calle 127', 'Pepe Sierra', 'Calle 106', 'Calle 100', 'La Castellana', 'NQS-Calle 75', 'AV. Chile', 'Simon Bolivar', 'Movistar Arena', 'Campin - U. Antonio Nariño', 'U. Nacional', 'AV. El Dorado', 'CAD', 'Paloquemao', 'Ricaurte', 'San Façon', 'De La Sabana', 'AV. Jiménez']\n",
            "A*:  ['Portal Norte', 'Toberin', 'Calle 161', 'Mazuren', 'Calle 146', 'Calle 142', 'Alcala', 'Prado', 'Calle 127', 'Pepe Sierra', 'Calle 106', 'Calle 100', 'Virrey', 'Calle 85', 'Héroes', 'Calle 76', 'Calle 72', 'Flores', 'Calle 63', 'Calle 57', 'Marly', 'Calle 45', 'AV. 39', 'Calle 34', 'Calle 26', 'Calle 22', 'Calle 19', 'AV. Jiménez']\n"
          ],
          "name": "stdout"
        }
      ]
    },
    {
      "cell_type": "markdown",
      "metadata": {
        "id": "1UVMppHidgkR",
        "colab_type": "text"
      },
      "source": [
        "# **Conclusiones**\n",
        "Como conclusiones se tiene que:\n",
        "\n",
        "*   Aunque hayan multiples rutas, dependiendo de la necesidad del usuario cada algoritmo de busqueda puede dar una solucion diferente, la cual puede ser mas optima o no dependiendo de la persona.\n",
        "*   Los algoritmos de busqueda no informada no son muy diferentes de las busquedas informadas. Los primeros hacen una busqueda a ciegas no tienen mucha informacion mas que el costo por cada conexion entre vertices, mientras que el segundo metodo tiene informacion anticipada, pudiendo tomar mejores decision estre escoger multiples estados en el mundo del problema.\n",
        "*   El uso de busqueda se puede utilizar en multiples campos, no solo en geolocalizacion y busqueda de una mejor ruta en un mapa dentro de distintas localizaciones\n",
        "\n",
        "\n",
        "\n"
      ]
    },
    {
      "cell_type": "markdown",
      "metadata": {
        "id": "YvIR9m_FebpU",
        "colab_type": "text"
      },
      "source": [
        "# **Otros usos**\n",
        "\n",
        "Este proyecto se puede utilizan en diferentes campos de accion, Como en este caso, en geolocalizacion o utilizando otras localizaciones, no necesariamente estaciones, se puede llegar a un resultado con un optimo local o global por cada algoritmo.\n",
        "\n",
        "Tambien se tiene el campo de juegos, en donde se pueden armar agentes inteligentes en un mundo 2D o 3D y que hagan una busqueda de  un objeto en un mundo multidimensional o bidimensional, haciendo que el juego sea mas realista o interactivo con el jugador, segun sea el caso.\n",
        "\n",
        "En redes computaciones tiene mucho campo de accion, podrian dotar los equipos de red, como modems, routers, switches, APs para dedicir cual es la mejor ruta dentro de una red y decidir por que camino enviar los paquetes y datos con el menor costo posible."
      ]
    }
  ]
}